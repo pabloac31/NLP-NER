{
 "cells": [
  {
   "cell_type": "code",
   "execution_count": 1,
   "metadata": {},
   "outputs": [],
   "source": [
    "%matplotlib inline\n",
    "%load_ext autoreload\n",
    "%autoreload 2"
   ]
  },
  {
   "cell_type": "code",
   "execution_count": 11,
   "metadata": {},
   "outputs": [],
   "source": [
    "import logging\n",
    "import sys\n",
    "sys.path.append(\"./utils\")\n",
    "\n",
    "from utils.skseq.sequences.sequence import Sequence\n",
    "from utils.skseq.readers import pos_corpus\n",
    "from utils.skseq.sequences.id_feature import IDFeatures\n",
    "from skseq.sequences.extended_feature import ExtendedFeatures\n",
    "import utils.skseq.sequences.structured_perceptron as spc\n",
    "from utils.utils import *"
   ]
  },
  {
   "cell_type": "markdown",
   "metadata": {},
   "source": [
    "## Structured Perceptron"
   ]
  },
  {
   "cell_type": "markdown",
   "metadata": {},
   "source": [
    "### Reading the data"
   ]
  },
  {
   "cell_type": "markdown",
   "metadata": {},
   "source": [
    "Data has the following format:\n",
    "\n",
    "```sentence_id```, ```words```, ```tags```\n",
    "\n",
    "Some samples are shown below.\n",
    "- 0,Thousands,O\n",
    "- 0,London,B-geo\n",
    "- 0,British,B-gpe\n",
    "- 2,Saturday,B-tim\n",
    "- 2,Taliban,B-org\n",
    "- 4,Egeland,I-per"
   ]
  },
  {
   "cell_type": "code",
   "execution_count": 3,
   "metadata": {},
   "outputs": [],
   "source": [
    "corpus = pos_corpus.PostagCorpus()"
   ]
  },
  {
   "cell_type": "code",
   "execution_count": 4,
   "metadata": {},
   "outputs": [],
   "source": [
    "data_path = \"data/\"\n",
    "\n",
    "train_seq = corpus.read_sequence_list(data_path + \"train_data_ner.csv\")                                     \n",
    "test_seq = corpus.read_sequence_list(data_path + \"test_data_ner.csv\")"
   ]
  },
  {
   "cell_type": "code",
   "execution_count": 5,
   "metadata": {},
   "outputs": [
    {
     "name": "stdout",
     "output_type": "stream",
     "text": [
      "38358\n",
      "38359\n"
     ]
    }
   ],
   "source": [
    "print(len(train_seq))\n",
    "print(len(test_seq))"
   ]
  },
  {
   "cell_type": "code",
   "execution_count": 6,
   "metadata": {
    "scrolled": true
   },
   "outputs": [
    {
     "data": {
      "text/plain": [
       "{'O': 0,\n",
       " 'B-geo': 1,\n",
       " 'B-gpe': 2,\n",
       " 'B-tim': 3,\n",
       " 'B-org': 4,\n",
       " 'I-geo': 5,\n",
       " 'B-per': 6,\n",
       " 'I-per': 7,\n",
       " 'I-org': 8,\n",
       " 'B-art': 9,\n",
       " 'I-art': 10,\n",
       " 'I-tim': 11,\n",
       " 'I-gpe': 12,\n",
       " 'B-nat': 13,\n",
       " 'I-nat': 14,\n",
       " 'B-eve': 15,\n",
       " 'I-eve': 16}"
      ]
     },
     "execution_count": 6,
     "metadata": {},
     "output_type": "execute_result"
    }
   ],
   "source": [
    "corpus.tag_dict"
   ]
  },
  {
   "cell_type": "code",
   "execution_count": 7,
   "metadata": {},
   "outputs": [
    {
     "data": {
      "text/plain": [
       "(55143, 55143)"
      ]
     },
     "execution_count": 7,
     "metadata": {},
     "output_type": "execute_result"
    }
   ],
   "source": [
    "# number of possible words\n",
    "len(train_seq.x_dict), len(test_seq.x_dict)"
   ]
  },
  {
   "cell_type": "code",
   "execution_count": 8,
   "metadata": {},
   "outputs": [
    {
     "data": {
      "text/plain": [
       "17"
      ]
     },
     "execution_count": 8,
     "metadata": {},
     "output_type": "execute_result"
    }
   ],
   "source": [
    "# number of possible labels\n",
    "len(train_seq.y_dict)"
   ]
  },
  {
   "cell_type": "code",
   "execution_count": 9,
   "metadata": {},
   "outputs": [
    {
     "data": {
      "text/plain": [
       "0/0 1/0 2/0 3/0 4/0 5/0 6/1 7/0 8/0 9/0 10/0 11/0 12/1 13/0 14/0 9/0 15/0 1/0 16/2 17/0 18/0 19/0 20/0 21/0 "
      ]
     },
     "execution_count": 9,
     "metadata": {},
     "output_type": "execute_result"
    }
   ],
   "source": [
    "train_seq[0]"
   ]
  },
  {
   "cell_type": "code",
   "execution_count": 10,
   "metadata": {
    "scrolled": true
   },
   "outputs": [
    {
     "data": {
      "text/plain": [
       "'Thousands/O of/O demonstrators/O have/O marched/O through/O London/B-geo to/O protest/O the/O war/O in/O Iraq/B-geo and/O demand/O the/O withdrawal/O of/O British/B-gpe troops/O from/O that/O country/O ./O '"
      ]
     },
     "execution_count": 10,
     "metadata": {},
     "output_type": "execute_result"
    }
   ],
   "source": [
    "train_seq[0].to_words(sequence_list=train_seq)"
   ]
  },
  {
   "cell_type": "markdown",
   "metadata": {},
   "source": [
    "### Feature mapper"
   ]
  },
  {
   "cell_type": "code",
   "execution_count": 12,
   "metadata": {},
   "outputs": [
    {
     "data": {
      "text/plain": [
       "{}"
      ]
     },
     "execution_count": 12,
     "metadata": {},
     "output_type": "execute_result"
    }
   ],
   "source": [
    "#feature_mapper = IDFeatures(train_seq)\n",
    "feature_mapper = ExtendedFeatures(train_seq)\n",
    "\n",
    "feature_mapper.feature_dict"
   ]
  },
  {
   "cell_type": "code",
   "execution_count": 13,
   "metadata": {},
   "outputs": [
    {
     "data": {
      "text/plain": [
       "38358"
      ]
     },
     "execution_count": 13,
     "metadata": {},
     "output_type": "execute_result"
    }
   ],
   "source": [
    "len(feature_mapper.dataset)"
   ]
  },
  {
   "cell_type": "code",
   "execution_count": 14,
   "metadata": {},
   "outputs": [
    {
     "data": {
      "text/plain": [
       "(54291, 38358)"
      ]
     },
     "execution_count": 14,
     "metadata": {},
     "output_type": "execute_result"
    }
   ],
   "source": [
    "# get features\n",
    "feature_mapper.build_features()\n",
    "\n",
    "len(feature_mapper.feature_dict), len(feature_mapper.feature_list)"
   ]
  },
  {
   "cell_type": "code",
   "execution_count": 15,
   "metadata": {},
   "outputs": [
    {
     "data": {
      "text/plain": [
       "['init_tag:O',\n",
       " 'id:Thousands::O',\n",
       " 'suffix:s::O',\n",
       " 'suffix:ds::O',\n",
       " 'suffix:nds::O',\n",
       " 'id:of::O',\n",
       " 'suffix:f::O',\n",
       " 'prev_tag:O::O',\n",
       " 'id:demonstrators::O',\n",
       " 'suffix:rs::O']"
      ]
     },
     "execution_count": 15,
     "metadata": {},
     "output_type": "execute_result"
    }
   ],
   "source": [
    "# show some features\n",
    "list(feature_mapper.feature_dict)[0:10]"
   ]
  },
  {
   "cell_type": "code",
   "execution_count": 16,
   "metadata": {},
   "outputs": [],
   "source": [
    "sp = spc.StructuredPerceptron(corpus.word_dict, corpus.tag_dict, feature_mapper)\n",
    "sp.num_epochs = 15"
   ]
  },
  {
   "cell_type": "code",
   "execution_count": 17,
   "metadata": {},
   "outputs": [
    {
     "data": {
      "text/plain": [
       "{'O': 0,\n",
       " 'B-geo': 1,\n",
       " 'B-gpe': 2,\n",
       " 'B-tim': 3,\n",
       " 'B-org': 4,\n",
       " 'I-geo': 5,\n",
       " 'B-per': 6,\n",
       " 'I-per': 7,\n",
       " 'I-org': 8,\n",
       " 'B-art': 9,\n",
       " 'I-art': 10,\n",
       " 'I-tim': 11,\n",
       " 'I-gpe': 12,\n",
       " 'B-nat': 13,\n",
       " 'I-nat': 14,\n",
       " 'B-eve': 15,\n",
       " 'I-eve': 16}"
      ]
     },
     "execution_count": 17,
     "metadata": {},
     "output_type": "execute_result"
    }
   ],
   "source": [
    "sp.state_labels"
   ]
  },
  {
   "cell_type": "code",
   "execution_count": 18,
   "metadata": {},
   "outputs": [
    {
     "data": {
      "text/plain": [
       "(17, 55143)"
      ]
     },
     "execution_count": 18,
     "metadata": {},
     "output_type": "execute_result"
    }
   ],
   "source": [
    "sp.get_num_states(), sp.get_num_observations()"
   ]
  },
  {
   "cell_type": "code",
   "execution_count": 19,
   "metadata": {},
   "outputs": [
    {
     "data": {
      "text/plain": [
       "54291"
      ]
     },
     "execution_count": 19,
     "metadata": {},
     "output_type": "execute_result"
    }
   ],
   "source": [
    "len(sp.parameters)"
   ]
  },
  {
   "cell_type": "code",
   "execution_count": 20,
   "metadata": {},
   "outputs": [
    {
     "name": "stdout",
     "output_type": "stream",
     "text": [
      "Epoch: 0 Accuracy: 0.893740\n",
      "Epoch: 1 Accuracy: 0.932009\n",
      "Epoch: 2 Accuracy: 0.940784\n",
      "Epoch: 3 Accuracy: 0.946467\n",
      "Epoch: 4 Accuracy: 0.949568\n",
      "Epoch: 5 Accuracy: 0.952513\n",
      "Epoch: 6 Accuracy: 0.954342\n",
      "Epoch: 7 Accuracy: 0.955855\n",
      "Epoch: 8 Accuracy: 0.957418\n",
      "Epoch: 9 Accuracy: 0.958337\n",
      "Epoch: 10 Accuracy: 0.959105\n",
      "Epoch: 11 Accuracy: 0.960058\n",
      "Epoch: 12 Accuracy: 0.960956\n",
      "Epoch: 13 Accuracy: 0.961745\n",
      "Epoch: 14 Accuracy: 0.961832\n",
      "Wall time: 1h 37min 9s\n"
     ]
    }
   ],
   "source": [
    "%%time\n",
    "# default features\n",
    "num_epochs = 15\n",
    "sp.fit(feature_mapper.dataset, num_epochs)"
   ]
  },
  {
   "cell_type": "code",
   "execution_count": 22,
   "metadata": {},
   "outputs": [
    {
     "name": "stdout",
     "output_type": "stream",
     "text": [
      "Epoch: 0 Accuracy: 0.949127\n",
      "Epoch: 1 Accuracy: 0.951563\n",
      "Epoch: 2 Accuracy: 0.953484\n",
      "Epoch: 3 Accuracy: 0.954870\n",
      "Epoch: 4 Accuracy: 0.956329\n",
      "Epoch: 5 Accuracy: 0.957094\n",
      "Epoch: 6 Accuracy: 0.958117\n",
      "Epoch: 7 Accuracy: 0.958711\n",
      "Epoch: 8 Accuracy: 0.959152\n",
      "Epoch: 9 Accuracy: 0.960370\n",
      "Wall time: 1h 7min 21s\n"
     ]
    }
   ],
   "source": [
    "%%time\n",
    "# extended features\n",
    "num_epochs = 10\n",
    "sp.fit(feature_mapper.dataset, num_epochs)"
   ]
  },
  {
   "cell_type": "markdown",
   "metadata": {},
   "source": [
    "### Save model"
   ]
  },
  {
   "cell_type": "code",
   "execution_count": 23,
   "metadata": {},
   "outputs": [
    {
     "data": {
      "text/plain": [
       "array([ 11.        ,   4.5       ,   2.58333333, ..., -10.5       ,\n",
       "         1.41666667,   1.41666667])"
      ]
     },
     "execution_count": 23,
     "metadata": {},
     "output_type": "execute_result"
    }
   ],
   "source": [
    "sp.parameters"
   ]
  },
  {
   "cell_type": "code",
   "execution_count": 24,
   "metadata": {},
   "outputs": [],
   "source": [
    "models_path = 'fitted_models/'\n",
    "\n",
    "sp.save_model(models_path + \"perceptron_{}_iter_extended\".format(num_epochs))"
   ]
  },
  {
   "cell_type": "code",
   "execution_count": 25,
   "metadata": {},
   "outputs": [
    {
     "data": {
      "text/plain": [
       "10"
      ]
     },
     "execution_count": 25,
     "metadata": {},
     "output_type": "execute_result"
    }
   ],
   "source": [
    "num_epochs"
   ]
  },
  {
   "cell_type": "markdown",
   "metadata": {},
   "source": [
    "## Bidirectional LSTM"
   ]
  },
  {
   "cell_type": "markdown",
   "metadata": {},
   "source": [
    "To train this model, we have used a server which two of our team members are using for their master thesis."
   ]
  },
  {
   "cell_type": "code",
   "execution_count": 3,
   "metadata": {
    "execution": {
     "iopub.execute_input": "2021-06-17T16:46:06.227100Z",
     "iopub.status.busy": "2021-06-17T16:46:06.226540Z",
     "iopub.status.idle": "2021-06-17T16:46:06.228636Z",
     "shell.execute_reply": "2021-06-17T16:46:06.228251Z"
    },
    "id": "i1oj7mMF1n5A"
   },
   "outputs": [],
   "source": [
    "logging.basicConfig(filename=f\"ner_lstm.log\",\n",
    "                    format='%(asctime)s - %(message)s', level=logging.INFO)"
   ]
  },
  {
   "cell_type": "code",
   "execution_count": 8,
   "metadata": {
    "execution": {
     "iopub.execute_input": "2021-06-17T16:46:10.694549Z",
     "iopub.status.busy": "2021-06-17T16:46:10.694152Z",
     "iopub.status.idle": "2021-06-17T16:46:10.696024Z",
     "shell.execute_reply": "2021-06-17T16:46:10.695489Z"
    },
    "id": "pbPQ6G5BwYxt"
   },
   "outputs": [],
   "source": [
    "labels = dict(train_seq.y_dict)\n",
    "START_TAG = \"<START>\"\n",
    "STOP_TAG = \"<STOP>\"\n",
    "labels[START_TAG] = 17\n",
    "labels[STOP_TAG] = 18\n",
    "\n",
    "EMBEDDING_DIM = 5\n",
    "HIDDEN_DIM = 4"
   ]
  },
  {
   "cell_type": "code",
   "execution_count": 9,
   "metadata": {
    "execution": {
     "iopub.execute_input": "2021-06-17T16:46:10.699338Z",
     "iopub.status.busy": "2021-06-17T16:46:10.698798Z",
     "iopub.status.idle": "2021-06-17T16:46:10.723840Z",
     "shell.execute_reply": "2021-06-17T16:46:10.724183Z"
    },
    "id": "sFiIGLgkss3x"
   },
   "outputs": [],
   "source": [
    "model = BiLSTM_CRF_v2(len(train_seq.x_dict), labels, EMBEDDING_DIM, HIDDEN_DIM)\n",
    "optimizer = optim.SGD(model.parameters(), lr=0.01, weight_decay=1e-4)"
   ]
  },
  {
   "cell_type": "code",
   "execution_count": 10,
   "metadata": {
    "colab": {
     "base_uri": "https://localhost:8080/"
    },
    "execution": {
     "iopub.execute_input": "2021-06-17T16:46:10.730663Z",
     "iopub.status.busy": "2021-06-17T16:46:10.730134Z",
     "iopub.status.idle": "2021-06-18T06:54:56.121767Z",
     "shell.execute_reply": "2021-06-18T06:54:56.122709Z"
    },
    "id": "ZrD3tyvsy4TG",
    "outputId": "facb8283-d235-44f6-84d1-edb40f7b33e7"
   },
   "outputs": [],
   "source": [
    "for epoch in range(15):\n",
    "    for i in range(38357):\n",
    "        # Step 1. Remember that Pytorch accumulates gradients.\n",
    "        # We need to clear them out before each instance\n",
    "        model.zero_grad()\n",
    "\n",
    "        sentence_in = torch.tensor(train_seq[i].x, dtype=torch.long)\n",
    "        # sentence_in = sentence_in.to(\"cuda\")\n",
    "        targets = torch.tensor(train_seq[i].y, dtype=torch.long)\n",
    "        # targets = targets.to(\"cuda\")\n",
    "\n",
    "        # Step 3. Run our forward pass.\n",
    "        loss = model.neg_log_likelihood(sentence_in, targets)\n",
    "\n",
    "        # Step 4. Compute the loss, gradients, and update the parameters by\n",
    "        # calling optimizer.step()\n",
    "        loss.backward()\n",
    "        optimizer.step()\n",
    "\n",
    "    logging.info(f\"Epoch {epoch} loss: {loss.item()}\")"
   ]
  },
  {
   "cell_type": "markdown",
   "metadata": {},
   "source": [
    "2021-06-17 19:57:36,061 - Epoch 0 loss: 4.4257965087890625\n",
    "\n",
    "2021-06-17 21:08:28,791 - Epoch 1 loss: 3.559356689453125\n",
    "\n",
    "2021-06-17 22:19:16,304 - Epoch 2 loss: 2.704498291015625\n",
    "\n",
    "2021-06-17 23:15:25,847 - Epoch 3 loss: 2.14013671875\n",
    "\n",
    "2021-06-18 00:08:14,939 - Epoch 4 loss: 1.69354248046875\n",
    "\n",
    "2021-06-18 01:00:55,245 - Epoch 5 loss: 1.399871826171875\n",
    "\n",
    "2021-06-18 01:53:40,715 - Epoch 6 loss: 1.235626220703125\n",
    "\n",
    "2021-06-18 02:46:17,931 - Epoch 7 loss: 1.08868408203125\n",
    "\n",
    "2021-06-18 03:38:55,666 - Epoch 8 loss: 0.985626220703125\n",
    "\n",
    "2021-06-18 04:31:39,916 - Epoch 9 loss: 0.869171142578125\n",
    "\n",
    "2021-06-18 05:24:23,993 - Epoch 10 loss: 0.76190185546875\n",
    "\n",
    "2021-06-18 06:16:57,598 - Epoch 11 loss: 0.679656982421875\n",
    "\n",
    "2021-06-18 07:09:33,227 - Epoch 12 loss: 0.6939697265625\n",
    "\n",
    "2021-06-18 08:02:15,899 - Epoch 13 loss: 0.67559814453125\n",
    "\n",
    "2021-06-18 08:54:56,115 - Epoch 14 loss: 0.899566650390625"
   ]
  },
  {
   "cell_type": "markdown",
   "metadata": {},
   "source": [
    "### Save model"
   ]
  },
  {
   "cell_type": "code",
   "execution_count": 11,
   "metadata": {
    "execution": {
     "iopub.execute_input": "2021-06-18T06:54:56.127943Z",
     "iopub.status.busy": "2021-06-18T06:54:56.127617Z",
     "iopub.status.idle": "2021-06-18T06:54:56.147992Z",
     "shell.execute_reply": "2021-06-18T06:54:56.148345Z"
    },
    "id": "Zdxu-pyBtsKi"
   },
   "outputs": [
    {
     "name": "stderr",
     "output_type": "stream",
     "text": [
      "/home/student/noel_aitor/tion/envs/nlp/lib/python3.7/site-packages/torch/serialization.py:360: UserWarning: Couldn't retrieve source code for container of type BiLSTM_CRF_v2. It won't be checked for correctness upon loading.\n",
      "  \"type \" + obj.__name__ + \". It won't be checked \"\n"
     ]
    }
   ],
   "source": [
    "torch.save(model, \"modelLSTM.pt\")"
   ]
  }
 ],
 "metadata": {
  "kernelspec": {
   "display_name": "Python 3",
   "language": "python",
   "name": "python3"
  },
  "language_info": {
   "codemirror_mode": {
    "name": "ipython",
    "version": 3
   },
   "file_extension": ".py",
   "mimetype": "text/x-python",
   "name": "python",
   "nbconvert_exporter": "python",
   "pygments_lexer": "ipython3",
   "version": "3.9.4"
  }
 },
 "nbformat": 4,
 "nbformat_minor": 4
}
