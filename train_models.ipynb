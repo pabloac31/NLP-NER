{
 "cells": [
  {
   "cell_type": "code",
   "execution_count": 1,
   "metadata": {},
   "outputs": [],
   "source": [
    "%matplotlib inline\n",
    "%load_ext autoreload\n",
    "%autoreload 2"
   ]
  },
  {
   "cell_type": "code",
   "execution_count": 2,
   "metadata": {},
   "outputs": [],
   "source": [
    "import logging\n",
    "import sys\n",
    "sys.path.append(\"./utils\")\n",
    "\n",
    "from utils.skseq.sequences.sequence import Sequence\n",
    "from utils.skseq.readers import pos_corpus\n",
    "from utils.skseq.sequences.id_feature import IDFeatures\n",
    "from skseq.sequences.extended_feature import ExtendedFeatures\n",
    "import utils.skseq.sequences.structured_perceptron as spc\n",
    "from utils.utils import *"
   ]
  },
  {
   "cell_type": "markdown",
   "metadata": {},
   "source": [
    "## Structured Perceptron"
   ]
  },
  {
   "cell_type": "markdown",
   "metadata": {},
   "source": [
    "### Reading the data"
   ]
  },
  {
   "cell_type": "markdown",
   "metadata": {},
   "source": [
    "Data has the following format:\n",
    "\n",
    "```sentence_id```, ```words```, ```tags```\n",
    "\n",
    "Some samples are shown below.\n",
    "- 0,Thousands,O\n",
    "- 0,London,B-geo\n",
    "- 0,British,B-gpe\n",
    "- 2,Saturday,B-tim\n",
    "- 2,Taliban,B-org\n",
    "- 4,Egeland,I-per"
   ]
  },
  {
   "cell_type": "code",
   "execution_count": 3,
   "metadata": {},
   "outputs": [],
   "source": [
    "corpus = pos_corpus.PostagCorpus()"
   ]
  },
  {
   "cell_type": "code",
   "execution_count": 4,
   "metadata": {},
   "outputs": [],
   "source": [
    "data_path = \"data/\"\n",
    "\n",
    "train_seq = corpus.read_sequence_list(data_path + \"train_data_ner.csv\")                                     \n",
    "test_seq = corpus.read_sequence_list(data_path + \"test_data_ner.csv\")"
   ]
  },
  {
   "cell_type": "code",
   "execution_count": 5,
   "metadata": {},
   "outputs": [
    {
     "name": "stdout",
     "output_type": "stream",
     "text": [
      "38358\n",
      "38359\n"
     ]
    }
   ],
   "source": [
    "print(len(train_seq))\n",
    "print(len(test_seq))"
   ]
  },
  {
   "cell_type": "code",
   "execution_count": 6,
   "metadata": {
    "scrolled": true
   },
   "outputs": [
    {
     "data": {
      "text/plain": [
       "{'O': 0,\n",
       " 'B-geo': 1,\n",
       " 'B-gpe': 2,\n",
       " 'B-tim': 3,\n",
       " 'B-org': 4,\n",
       " 'I-geo': 5,\n",
       " 'B-per': 6,\n",
       " 'I-per': 7,\n",
       " 'I-org': 8,\n",
       " 'B-art': 9,\n",
       " 'I-art': 10,\n",
       " 'I-tim': 11,\n",
       " 'I-gpe': 12,\n",
       " 'B-nat': 13,\n",
       " 'I-nat': 14,\n",
       " 'B-eve': 15,\n",
       " 'I-eve': 16}"
      ]
     },
     "execution_count": 6,
     "metadata": {},
     "output_type": "execute_result"
    }
   ],
   "source": [
    "corpus.tag_dict"
   ]
  },
  {
   "cell_type": "code",
   "execution_count": 7,
   "metadata": {},
   "outputs": [
    {
     "data": {
      "text/plain": [
       "(55143, 55143)"
      ]
     },
     "execution_count": 7,
     "metadata": {},
     "output_type": "execute_result"
    }
   ],
   "source": [
    "# number of possible words\n",
    "len(train_seq.x_dict), len(test_seq.x_dict)"
   ]
  },
  {
   "cell_type": "code",
   "execution_count": 8,
   "metadata": {},
   "outputs": [
    {
     "data": {
      "text/plain": [
       "17"
      ]
     },
     "execution_count": 8,
     "metadata": {},
     "output_type": "execute_result"
    }
   ],
   "source": [
    "# number of possible labels\n",
    "len(train_seq.y_dict)"
   ]
  },
  {
   "cell_type": "code",
   "execution_count": 9,
   "metadata": {},
   "outputs": [
    {
     "data": {
      "text/plain": [
       "0/0 1/0 2/0 3/0 4/0 5/0 6/1 7/0 8/0 9/0 10/0 11/0 12/1 13/0 14/0 9/0 15/0 1/0 16/2 17/0 18/0 19/0 20/0 21/0 "
      ]
     },
     "execution_count": 9,
     "metadata": {},
     "output_type": "execute_result"
    }
   ],
   "source": [
    "train_seq[0]"
   ]
  },
  {
   "cell_type": "code",
   "execution_count": 10,
   "metadata": {
    "scrolled": true
   },
   "outputs": [
    {
     "data": {
      "text/plain": [
       "'Thousands/O of/O demonstrators/O have/O marched/O through/O London/B-geo to/O protest/O the/O war/O in/O Iraq/B-geo and/O demand/O the/O withdrawal/O of/O British/B-gpe troops/O from/O that/O country/O ./O '"
      ]
     },
     "execution_count": 10,
     "metadata": {},
     "output_type": "execute_result"
    }
   ],
   "source": [
    "train_seq[0].to_words(sequence_list=train_seq)"
   ]
  },
  {
   "cell_type": "markdown",
   "metadata": {},
   "source": [
    "### Feature mapper (Default)"
   ]
  },
  {
   "cell_type": "code",
   "execution_count": 82,
   "metadata": {},
   "outputs": [
    {
     "data": {
      "text/plain": [
       "{}"
      ]
     },
     "execution_count": 82,
     "metadata": {},
     "output_type": "execute_result"
    }
   ],
   "source": [
    "feature_mapper = IDFeatures(train_seq)\n",
    "feature_mapper.feature_dict"
   ]
  },
  {
   "cell_type": "code",
   "execution_count": 83,
   "metadata": {},
   "outputs": [
    {
     "data": {
      "text/plain": [
       "38358"
      ]
     },
     "execution_count": 83,
     "metadata": {},
     "output_type": "execute_result"
    }
   ],
   "source": [
    "len(feature_mapper.dataset)"
   ]
  },
  {
   "cell_type": "code",
   "execution_count": 84,
   "metadata": {},
   "outputs": [
    {
     "data": {
      "text/plain": [
       "(39801, 38358)"
      ]
     },
     "execution_count": 84,
     "metadata": {},
     "output_type": "execute_result"
    }
   ],
   "source": [
    "# get features\n",
    "feature_mapper.build_features()\n",
    "\n",
    "len(feature_mapper.feature_dict), len(feature_mapper.feature_list)"
   ]
  },
  {
   "cell_type": "code",
   "execution_count": 85,
   "metadata": {},
   "outputs": [
    {
     "data": {
      "text/plain": [
       "['init_tag:O',\n",
       " 'id:Thousands::O',\n",
       " 'id:of::O',\n",
       " 'prev_tag:O::O',\n",
       " 'id:demonstrators::O',\n",
       " 'id:have::O',\n",
       " 'id:marched::O',\n",
       " 'id:through::O',\n",
       " 'id:London::B-geo',\n",
       " 'prev_tag:O::B-geo']"
      ]
     },
     "execution_count": 85,
     "metadata": {},
     "output_type": "execute_result"
    }
   ],
   "source": [
    "# show some features\n",
    "list(feature_mapper.feature_dict)[0:10]"
   ]
  },
  {
   "cell_type": "code",
   "execution_count": 86,
   "metadata": {},
   "outputs": [],
   "source": [
    "features_default = set(feature_mapper.feature_dict.keys())"
   ]
  },
  {
   "cell_type": "code",
   "execution_count": 87,
   "metadata": {},
   "outputs": [
    {
     "data": {
      "text/plain": [
       "39801"
      ]
     },
     "execution_count": 87,
     "metadata": {},
     "output_type": "execute_result"
    }
   ],
   "source": [
    "len(features_default)"
   ]
  },
  {
   "cell_type": "code",
   "execution_count": 16,
   "metadata": {},
   "outputs": [],
   "source": [
    "sp = spc.StructuredPerceptron(corpus.word_dict, corpus.tag_dict, feature_mapper)\n",
    "sp.num_epochs = 15"
   ]
  },
  {
   "cell_type": "code",
   "execution_count": 17,
   "metadata": {},
   "outputs": [
    {
     "data": {
      "text/plain": [
       "{'O': 0,\n",
       " 'B-geo': 1,\n",
       " 'B-gpe': 2,\n",
       " 'B-tim': 3,\n",
       " 'B-org': 4,\n",
       " 'I-geo': 5,\n",
       " 'B-per': 6,\n",
       " 'I-per': 7,\n",
       " 'I-org': 8,\n",
       " 'B-art': 9,\n",
       " 'I-art': 10,\n",
       " 'I-tim': 11,\n",
       " 'I-gpe': 12,\n",
       " 'B-nat': 13,\n",
       " 'I-nat': 14,\n",
       " 'B-eve': 15,\n",
       " 'I-eve': 16}"
      ]
     },
     "execution_count": 17,
     "metadata": {},
     "output_type": "execute_result"
    }
   ],
   "source": [
    "sp.state_labels"
   ]
  },
  {
   "cell_type": "code",
   "execution_count": 18,
   "metadata": {},
   "outputs": [
    {
     "data": {
      "text/plain": [
       "(17, 55143)"
      ]
     },
     "execution_count": 18,
     "metadata": {},
     "output_type": "execute_result"
    }
   ],
   "source": [
    "sp.get_num_states(), sp.get_num_observations()"
   ]
  },
  {
   "cell_type": "code",
   "execution_count": 19,
   "metadata": {},
   "outputs": [
    {
     "data": {
      "text/plain": [
       "39801"
      ]
     },
     "execution_count": 19,
     "metadata": {},
     "output_type": "execute_result"
    }
   ],
   "source": [
    "len(sp.parameters)"
   ]
  },
  {
   "cell_type": "code",
   "execution_count": 20,
   "metadata": {},
   "outputs": [
    {
     "name": "stdout",
     "output_type": "stream",
     "text": [
      "Epoch: 0 Accuracy: 0.893740\n",
      "Epoch: 1 Accuracy: 0.932009\n",
      "Epoch: 2 Accuracy: 0.940784\n",
      "Epoch: 3 Accuracy: 0.946467\n",
      "Epoch: 4 Accuracy: 0.949568\n",
      "Epoch: 5 Accuracy: 0.952513\n",
      "Epoch: 6 Accuracy: 0.954342\n",
      "Epoch: 7 Accuracy: 0.955855\n",
      "Epoch: 8 Accuracy: 0.957418\n",
      "Epoch: 9 Accuracy: 0.958337\n",
      "Epoch: 10 Accuracy: 0.959105\n",
      "Epoch: 11 Accuracy: 0.960058\n",
      "Epoch: 12 Accuracy: 0.960956\n",
      "Epoch: 13 Accuracy: 0.961745\n",
      "Epoch: 14 Accuracy: 0.961832\n",
      "Wall time: 1h 37min 9s\n"
     ]
    }
   ],
   "source": [
    "%%time\n",
    "# default features\n",
    "num_epochs = 15\n",
    "sp.fit(feature_mapper.dataset, num_epochs)"
   ]
  },
  {
   "cell_type": "markdown",
   "metadata": {},
   "source": [
    "### Save model"
   ]
  },
  {
   "cell_type": "code",
   "execution_count": 23,
   "metadata": {},
   "outputs": [
    {
     "data": {
      "text/plain": [
       "array([ 11.        ,   4.5       ,   2.58333333, ..., -10.5       ,\n",
       "         1.41666667,   1.41666667])"
      ]
     },
     "execution_count": 23,
     "metadata": {},
     "output_type": "execute_result"
    }
   ],
   "source": [
    "sp.parameters"
   ]
  },
  {
   "cell_type": "code",
   "execution_count": 24,
   "metadata": {},
   "outputs": [],
   "source": [
    "models_path = 'fitted_models/'\n",
    "\n",
    "sp.save_model(models_path + \"perceptron_{}_iter\".format(num_epochs))"
   ]
  },
  {
   "cell_type": "markdown",
   "metadata": {},
   "source": [
    "### Feature mapper (Extended)"
   ]
  },
  {
   "cell_type": "markdown",
   "metadata": {},
   "source": [
    "To train this model, we have used a server which two of our team members are using for their master thesis."
   ]
  },
  {
   "cell_type": "code",
   "execution_count": 88,
   "metadata": {},
   "outputs": [
    {
     "data": {
      "text/plain": [
       "{}"
      ]
     },
     "execution_count": 88,
     "metadata": {},
     "output_type": "execute_result"
    }
   ],
   "source": [
    "#feature_mapper = IDFeatures(train_seq)\n",
    "feature_mapper = ExtendedFeatures(train_seq)\n",
    "\n",
    "feature_mapper.feature_dict"
   ]
  },
  {
   "cell_type": "code",
   "execution_count": 89,
   "metadata": {},
   "outputs": [
    {
     "data": {
      "text/plain": [
       "38358"
      ]
     },
     "execution_count": 89,
     "metadata": {},
     "output_type": "execute_result"
    }
   ],
   "source": [
    "len(feature_mapper.dataset)"
   ]
  },
  {
   "cell_type": "code",
   "execution_count": 90,
   "metadata": {},
   "outputs": [
    {
     "data": {
      "text/plain": [
       "(54286, 38358)"
      ]
     },
     "execution_count": 90,
     "metadata": {},
     "output_type": "execute_result"
    }
   ],
   "source": [
    "# get features\n",
    "feature_mapper.build_features()\n",
    "\n",
    "len(feature_mapper.feature_dict), len(feature_mapper.feature_list)"
   ]
  },
  {
   "cell_type": "code",
   "execution_count": 91,
   "metadata": {},
   "outputs": [
    {
     "data": {
      "text/plain": [
       "['init_tag:O',\n",
       " 'id:Thousands::O',\n",
       " 'suffix:s::O',\n",
       " 'suffix:ds::O',\n",
       " 'suffix:nds::O',\n",
       " 'id:of::O',\n",
       " 'suffix:f::O',\n",
       " 'prev_tag:O::O',\n",
       " 'id:demonstrators::O',\n",
       " 'suffix:rs::O']"
      ]
     },
     "execution_count": 91,
     "metadata": {},
     "output_type": "execute_result"
    }
   ],
   "source": [
    "# show some features\n",
    "list(feature_mapper.feature_dict)[0:10]"
   ]
  },
  {
   "cell_type": "markdown",
   "metadata": {},
   "source": [
    "Let's see which features are added when we use the extended features:"
   ]
  },
  {
   "cell_type": "code",
   "execution_count": 92,
   "metadata": {},
   "outputs": [],
   "source": [
    "features_extended = set(feature_mapper.feature_dict.keys())"
   ]
  },
  {
   "cell_type": "markdown",
   "metadata": {},
   "source": [
    "Features from default configuration:"
   ]
  },
  {
   "cell_type": "code",
   "execution_count": 78,
   "metadata": {},
   "outputs": [
    {
     "data": {
      "text/plain": [
       "{'final_prev_tag', 'id', 'init_tag', 'prev_tag'}"
      ]
     },
     "execution_count": 78,
     "metadata": {},
     "output_type": "execute_result"
    }
   ],
   "source": [
    "set([f.split(\":\")[0] for f in features_default])"
   ]
  },
  {
   "cell_type": "markdown",
   "metadata": {},
   "source": [
    "Features from extended configuration:"
   ]
  },
  {
   "cell_type": "code",
   "execution_count": 79,
   "metadata": {},
   "outputs": [
    {
     "data": {
      "text/plain": [
       "{'final_prev_tag', 'id', 'init_tag', 'prev_tag', 'suffix'}"
      ]
     },
     "execution_count": 79,
     "metadata": {},
     "output_type": "execute_result"
    }
   ],
   "source": [
    "set([f.split(\":\")[0] for f in features_extended])"
   ]
  },
  {
   "cell_type": "markdown",
   "metadata": {},
   "source": [
    "Let's check how many different suffixes are in the extended features:"
   ]
  },
  {
   "cell_type": "code",
   "execution_count": 77,
   "metadata": {},
   "outputs": [
    {
     "data": {
      "text/plain": [
       "['suffix:sos',\n",
       " 'suffix:ghe',\n",
       " 'suffix:van',\n",
       " 'suffix:eal',\n",
       " 'suffix:van',\n",
       " 'suffix:sab',\n",
       " 'suffix:uen',\n",
       " 'suffix:uty',\n",
       " 'suffix:ng.',\n",
       " 'suffix:nes',\n",
       " 'suffix:uiz',\n",
       " 'suffix:ica',\n",
       " 'suffix:wi',\n",
       " 'suffix:eah',\n",
       " 'suffix:ny',\n",
       " 'suffix:ko',\n",
       " 'suffix:ic',\n",
       " 'suffix:ooq',\n",
       " 'suffix:und',\n",
       " 'suffix:76\"',\n",
       " 'suffix:put',\n",
       " 'suffix:lis',\n",
       " 'suffix:ges',\n",
       " 'suffix:FTA',\n",
       " 'suffix:0',\n",
       " 'suffix:ny',\n",
       " 'suffix:tar',\n",
       " 'suffix:NIN',\n",
       " 'suffix:cs',\n",
       " 'suffix:ao',\n",
       " 'suffix:uff',\n",
       " 'suffix:329',\n",
       " 'suffix:ope',\n",
       " 'suffix:ms',\n",
       " 'suffix:ry',\n",
       " 'suffix:38',\n",
       " 'suffix:v',\n",
       " 'suffix:out',\n",
       " 'suffix:fer',\n",
       " 'suffix:rdi',\n",
       " 'suffix:nse',\n",
       " 'suffix:uba',\n",
       " 'suffix:age',\n",
       " 'suffix:mid',\n",
       " 'suffix:it',\n",
       " 'suffix:yaz',\n",
       " 'suffix:iot',\n",
       " 'suffix:sip',\n",
       " 'suffix:oid',\n",
       " 'suffix:tus',\n",
       " 'suffix:96\"',\n",
       " 'suffix:bov',\n",
       " 'suffix:ao',\n",
       " 'suffix:ows',\n",
       " 'suffix:oum',\n",
       " 'suffix:ico',\n",
       " 'suffix:gbe',\n",
       " 'suffix:tur',\n",
       " 'suffix:ces',\n",
       " 'suffix:C',\n",
       " 'suffix:0.7',\n",
       " 'suffix:t\"',\n",
       " 'suffix:hen',\n",
       " 'suffix:lla',\n",
       " 'suffix:ean',\n",
       " 'suffix:mp',\n",
       " 'suffix:kez',\n",
       " 'suffix:own',\n",
       " 'suffix:eck',\n",
       " 'suffix:hon',\n",
       " 'suffix:ll',\n",
       " 'suffix:a',\n",
       " 'suffix:hog',\n",
       " 'suffix:ay',\n",
       " 'suffix:\"',\n",
       " 'suffix:rve',\n",
       " 'suffix:ege',\n",
       " 'suffix:J.',\n",
       " 'suffix:kom',\n",
       " 'suffix:ken',\n",
       " 'suffix:.42',\n",
       " 'suffix:ees',\n",
       " 'suffix:rko',\n",
       " 'suffix:owl',\n",
       " 'suffix:cho',\n",
       " 'suffix:984',\n",
       " 'suffix:tes',\n",
       " \"suffix:'th\",\n",
       " 'suffix:sti',\n",
       " 'suffix:vo',\n",
       " 'suffix:ACU',\n",
       " 'suffix:yo',\n",
       " 'suffix:rns',\n",
       " 'suffix:q',\n",
       " 'suffix:ye',\n",
       " 'suffix:bwe',\n",
       " 'suffix:.S.',\n",
       " 'suffix:ak',\n",
       " 'suffix:rel',\n",
       " 'suffix:lt',\n",
       " 'suffix:tch',\n",
       " 'suffix:ING',\n",
       " 'suffix:ca',\n",
       " 'suffix:kly',\n",
       " 'suffix:PS',\n",
       " 'suffix:-2',\n",
       " 'suffix:ia',\n",
       " 'suffix:hol',\n",
       " 'suffix:ega',\n",
       " 'suffix:uri',\n",
       " 'suffix:uys',\n",
       " 'suffix:cny',\n",
       " 'suffix:ip',\n",
       " 'suffix:les',\n",
       " 'suffix:ign',\n",
       " 'suffix:ax',\n",
       " 'suffix:-1',\n",
       " 'suffix:C',\n",
       " 'suffix:hr',\n",
       " 'suffix:lly',\n",
       " 'suffix:lya',\n",
       " 'suffix:ip',\n",
       " 'suffix:wab',\n",
       " 'suffix:te',\n",
       " 'suffix:rg',\n",
       " 'suffix:ili',\n",
       " 'suffix:zer',\n",
       " 'suffix:at',\n",
       " 'suffix:lim',\n",
       " 'suffix:hia',\n",
       " 'suffix:uro',\n",
       " 'suffix:mer',\n",
       " 'suffix:olf',\n",
       " 'suffix:a.',\n",
       " 'suffix:ate',\n",
       " 'suffix:are',\n",
       " 'suffix:ont',\n",
       " 'suffix:t',\n",
       " 'suffix:scu',\n",
       " 'suffix:KS',\n",
       " 'suffix:eal',\n",
       " 'suffix:T',\n",
       " 'suffix:cic',\n",
       " 'suffix:ndy',\n",
       " 'suffix:ash',\n",
       " 'suffix:ahr',\n",
       " 'suffix:kel',\n",
       " 'suffix:ncy',\n",
       " 'suffix:il',\n",
       " 'suffix:my',\n",
       " 'suffix:ces',\n",
       " 'suffix:IND',\n",
       " 'suffix:son',\n",
       " 'suffix:CTS',\n",
       " 'suffix:5',\n",
       " 'suffix:ypt',\n",
       " 'suffix:ana',\n",
       " 'suffix:eri',\n",
       " 'suffix:pes',\n",
       " 'suffix:aim',\n",
       " 'suffix:va',\n",
       " 'suffix:im',\n",
       " 'suffix:ide',\n",
       " 'suffix:kil',\n",
       " 'suffix:ai',\n",
       " 'suffix:dad',\n",
       " 'suffix:783',\n",
       " 'suffix:iti',\n",
       " 'suffix:nel',\n",
       " 'suffix:zat',\n",
       " 'suffix:oma',\n",
       " 'suffix:day',\n",
       " 'suffix:adj',\n",
       " 'suffix:ar',\n",
       " 'suffix:cht',\n",
       " 'suffix:ngu',\n",
       " 'suffix:owa',\n",
       " 'suffix:-0',\n",
       " 'suffix:ft',\n",
       " 'suffix:B.I',\n",
       " 'suffix:uel',\n",
       " 'suffix:hle',\n",
       " 'suffix:g',\n",
       " 'suffix:uk',\n",
       " 'suffix:ol',\n",
       " 'suffix:ob',\n",
       " 'suffix:zzo',\n",
       " 'suffix:lty',\n",
       " 'suffix:itz',\n",
       " 'suffix:885',\n",
       " 'suffix:69\"',\n",
       " 'suffix:ld',\n",
       " 'suffix:sol',\n",
       " 'suffix:dor',\n",
       " 'suffix:e',\n",
       " 'suffix:hes',\n",
       " 'suffix:ay',\n",
       " 'suffix:yaf',\n",
       " 'suffix:ey',\n",
       " 'suffix:IPC',\n",
       " 'suffix:acy',\n",
       " 'suffix:aph',\n",
       " 'suffix:att',\n",
       " 'suffix:ait',\n",
       " 'suffix:inn',\n",
       " 'suffix:121',\n",
       " 'suffix:ron',\n",
       " 'suffix:ers',\n",
       " 'suffix:ee',\n",
       " 'suffix:ty',\n",
       " 'suffix:ver',\n",
       " 'suffix:&B',\n",
       " 'suffix:ri',\n",
       " 'suffix:ein',\n",
       " 'suffix:our',\n",
       " 'suffix:9th',\n",
       " 'suffix:iet',\n",
       " 'suffix:030',\n",
       " 'suffix:ten',\n",
       " 'suffix:nts',\n",
       " 'suffix:ay',\n",
       " 'suffix:puy',\n",
       " 'suffix:eau',\n",
       " 'suffix:zoo',\n",
       " 'suffix:od',\n",
       " 'suffix:urt',\n",
       " 'suffix:976',\n",
       " 'suffix:pia',\n",
       " 'suffix:ary',\n",
       " 'suffix:215',\n",
       " 'suffix:lau',\n",
       " 'suffix:oul',\n",
       " 'suffix:uum',\n",
       " 'suffix:gro',\n",
       " 'suffix:ace',\n",
       " 'suffix:ush',\n",
       " 'suffix:cio',\n",
       " 'suffix:kh',\n",
       " 'suffix:aru',\n",
       " 'suffix:ilk',\n",
       " 'suffix:8th',\n",
       " 'suffix:chi',\n",
       " 'suffix:BO',\n",
       " 'suffix:an',\n",
       " 'suffix:30s',\n",
       " 'suffix:mer',\n",
       " 'suffix:ouk',\n",
       " 'suffix:rf',\n",
       " 'suffix:gi',\n",
       " 'suffix:hit',\n",
       " 'suffix:zer',\n",
       " 'suffix:ous',\n",
       " 'suffix:nem',\n",
       " 'suffix:ré',\n",
       " 'suffix:iva',\n",
       " 'suffix:ON',\n",
       " 'suffix:.3',\n",
       " 'suffix:how',\n",
       " 'suffix:min',\n",
       " 'suffix:erz',\n",
       " 'suffix:ice',\n",
       " 'suffix:bra',\n",
       " 'suffix:the',\n",
       " 'suffix:iss',\n",
       " 'suffix:til',\n",
       " 'suffix:dud',\n",
       " 'suffix:urt',\n",
       " 'suffix:ab',\n",
       " 'suffix:est',\n",
       " 'suffix:6-3',\n",
       " 'suffix:ked',\n",
       " 'suffix:din',\n",
       " 'suffix:nka',\n",
       " 'suffix:hr',\n",
       " 'suffix:one',\n",
       " 'suffix:ce',\n",
       " 'suffix:sk',\n",
       " 'suffix:irl',\n",
       " 'suffix:tti',\n",
       " 'suffix:GOs',\n",
       " 'suffix:abr',\n",
       " 'suffix:ena',\n",
       " 'suffix:ho',\n",
       " 'suffix:ban',\n",
       " 'suffix:ita',\n",
       " 'suffix:bi',\n",
       " 'suffix:o.',\n",
       " 'suffix:r',\n",
       " 'suffix:28',\n",
       " 'suffix:ss',\n",
       " 'suffix:ess',\n",
       " 'suffix:oy',\n",
       " 'suffix:sor',\n",
       " 'suffix:870',\n",
       " 'suffix:uis',\n",
       " 'suffix:ric',\n",
       " 'suffix:08',\n",
       " 'suffix:oua',\n",
       " 'suffix:eev',\n",
       " 'suffix:py',\n",
       " 'suffix:ulu',\n",
       " 'suffix:ri',\n",
       " 'suffix:nes',\n",
       " 'suffix:day',\n",
       " 'suffix:ego',\n",
       " 'suffix:ng',\n",
       " 'suffix:gga',\n",
       " 'suffix:fah',\n",
       " 'suffix:bia',\n",
       " 'suffix:lon',\n",
       " 'suffix:cat',\n",
       " 'suffix:hyu',\n",
       " 'suffix:ann',\n",
       " 'suffix:pt',\n",
       " 'suffix:ght',\n",
       " 'suffix:S.',\n",
       " 'suffix:pat',\n",
       " 'suffix:58',\n",
       " 'suffix:lak',\n",
       " 'suffix:ly',\n",
       " 'suffix:975',\n",
       " 'suffix:fur',\n",
       " 'suffix:ves',\n",
       " 'suffix:ola',\n",
       " 'suffix:ius',\n",
       " 'suffix:utu',\n",
       " 'suffix:ope',\n",
       " 'suffix:ian',\n",
       " 'suffix:cam',\n",
       " 'suffix:rs',\n",
       " 'suffix:ady',\n",
       " 'suffix:rj',\n",
       " 'suffix:tz',\n",
       " 'suffix:gu',\n",
       " 'suffix:eim',\n",
       " 'suffix:016',\n",
       " 'suffix:lf',\n",
       " 'suffix:unt',\n",
       " 'suffix:wn',\n",
       " 'suffix:ako',\n",
       " 'suffix:nli',\n",
       " 'suffix:o',\n",
       " 'suffix:.',\n",
       " 'suffix:neh',\n",
       " 'suffix:ae',\n",
       " 'suffix:a.',\n",
       " 'suffix:.V.',\n",
       " 'suffix:gdu',\n",
       " 'suffix:rf',\n",
       " 'suffix:oa',\n",
       " 'suffix:aff',\n",
       " 'suffix:ica',\n",
       " 'suffix:eds',\n",
       " 'suffix:oys',\n",
       " 'suffix:ld',\n",
       " 'suffix:on',\n",
       " 'suffix:blo',\n",
       " 'suffix:emy',\n",
       " 'suffix:dia',\n",
       " 'suffix:now',\n",
       " 'suffix:hi',\n",
       " 'suffix:uli',\n",
       " 'suffix:nds',\n",
       " 'suffix:ist',\n",
       " 'suffix:ent',\n",
       " 'suffix:mp',\n",
       " 'suffix:dai',\n",
       " 'suffix:ec',\n",
       " 'suffix:bia',\n",
       " 'suffix:gno',\n",
       " 'suffix:amp',\n",
       " 'suffix:het',\n",
       " 'suffix:HOE',\n",
       " 'suffix:zic',\n",
       " 'suffix:xia',\n",
       " 'suffix:ev',\n",
       " 'suffix:udi',\n",
       " 'suffix:ché',\n",
       " 'suffix:f.',\n",
       " 'suffix:io',\n",
       " 'suffix:ar',\n",
       " 'suffix:-Ye',\n",
       " 'suffix:rix',\n",
       " 'suffix:sed',\n",
       " 'suffix:eco',\n",
       " 'suffix:zan',\n",
       " 'suffix:ts',\n",
       " 'suffix:935',\n",
       " 'suffix:ams',\n",
       " 'suffix:OA',\n",
       " 'suffix:la',\n",
       " 'suffix:amm',\n",
       " 'suffix:un',\n",
       " 'suffix:ir',\n",
       " 'suffix:rot',\n",
       " 'suffix:hri',\n",
       " 'suffix:top',\n",
       " 'suffix:oue',\n",
       " 'suffix:iev',\n",
       " 'suffix:ers',\n",
       " 'suffix:eel',\n",
       " 'suffix:ai',\n",
       " 'suffix:ea',\n",
       " 'suffix:unt',\n",
       " 'suffix:OK',\n",
       " 'suffix:Jan',\n",
       " 'suffix:mel',\n",
       " 'suffix:lav',\n",
       " 'suffix:tri',\n",
       " 'suffix:ild',\n",
       " 'suffix:rug',\n",
       " 'suffix:aco',\n",
       " 'suffix:sse',\n",
       " 'suffix:537',\n",
       " 'suffix:yle',\n",
       " 'suffix:les',\n",
       " 'suffix:als',\n",
       " 'suffix:jsa',\n",
       " 'suffix:A',\n",
       " 'suffix:iat',\n",
       " 'suffix:nty',\n",
       " 'suffix:mb',\n",
       " 'suffix:ahr',\n",
       " 'suffix:ime',\n",
       " 'suffix:oto',\n",
       " 'suffix:ele',\n",
       " 'suffix:.J.',\n",
       " 'suffix:gra',\n",
       " 'suffix:nge',\n",
       " 'suffix:bas',\n",
       " 'suffix:ide',\n",
       " 'suffix:ams',\n",
       " 'suffix:oq',\n",
       " 'suffix:006',\n",
       " 'suffix:ss',\n",
       " 'suffix:neo',\n",
       " 'suffix:om',\n",
       " 'suffix:kim',\n",
       " 'suffix:ah',\n",
       " 'suffix:DC',\n",
       " 'suffix:ag',\n",
       " 'suffix:awn',\n",
       " 'suffix:ns',\n",
       " 'suffix:gyz',\n",
       " 'suffix:an',\n",
       " 'suffix:fah',\n",
       " 'suffix:ter',\n",
       " 'suffix:me',\n",
       " 'suffix:th',\n",
       " 'suffix:OK',\n",
       " 'suffix:nu',\n",
       " 'suffix:ouq',\n",
       " 'suffix:eit',\n",
       " 'suffix:tra',\n",
       " 'suffix:2',\n",
       " 'suffix:ide',\n",
       " 'suffix:zes',\n",
       " 'suffix:sur',\n",
       " 'suffix:BB',\n",
       " 'suffix:smi',\n",
       " 'suffix:rte',\n",
       " 'suffix:omi',\n",
       " 'suffix:rab',\n",
       " 'suffix:fa',\n",
       " 'suffix:st',\n",
       " 'suffix:age',\n",
       " 'suffix:han',\n",
       " 'suffix:ury',\n",
       " 'suffix:46',\n",
       " 'suffix:sun',\n",
       " 'suffix:iri',\n",
       " 'suffix:lsa',\n",
       " 'suffix:nes',\n",
       " 'suffix:lal',\n",
       " 'suffix:yon',\n",
       " 'suffix:ker',\n",
       " 'suffix:zon',\n",
       " 'suffix:vie',\n",
       " 'suffix:tor',\n",
       " 'suffix:igh',\n",
       " 'suffix:emy',\n",
       " 'suffix:nam',\n",
       " 'suffix:und',\n",
       " 'suffix:urz',\n",
       " 'suffix:M1',\n",
       " 'suffix:eku',\n",
       " 'suffix:nov',\n",
       " 'suffix:dhi',\n",
       " 'suffix:rd',\n",
       " 'suffix:agi',\n",
       " 'suffix:gu',\n",
       " 'suffix:any',\n",
       " 'suffix:ce',\n",
       " 'suffix:87',\n",
       " 'suffix:ali',\n",
       " 'suffix:jim',\n",
       " 'suffix:bab',\n",
       " 'suffix:ght',\n",
       " 'suffix:tte',\n",
       " 'suffix:w',\n",
       " 'suffix:717',\n",
       " 'suffix:ej',\n",
       " 'suffix:i',\n",
       " 'suffix:yne',\n",
       " 'suffix:elj',\n",
       " 'suffix:nch',\n",
       " 'suffix:fic',\n",
       " 'suffix:oud',\n",
       " 'suffix:log',\n",
       " 'suffix:hra',\n",
       " 'suffix:ow',\n",
       " 'suffix:ein',\n",
       " 'suffix:wne',\n",
       " 'suffix:ch',\n",
       " 'suffix:SAF',\n",
       " 'suffix:ise',\n",
       " 'suffix:hsi',\n",
       " 'suffix:ean',\n",
       " 'suffix:O',\n",
       " \"suffix:'\",\n",
       " 'suffix:hus',\n",
       " 'suffix:ing',\n",
       " 'suffix:lu',\n",
       " 'suffix:nzo',\n",
       " 'suffix:hal',\n",
       " 'suffix:ork',\n",
       " 'suffix:OYS',\n",
       " 'suffix:FER',\n",
       " 'suffix:aha',\n",
       " 'suffix:xei',\n",
       " 'suffix:r.',\n",
       " 'suffix:rms',\n",
       " 'suffix:oce',\n",
       " 'suffix:aib',\n",
       " 'suffix:aam',\n",
       " 'suffix:cep',\n",
       " 'suffix:ar',\n",
       " 'suffix:io',\n",
       " 'suffix:des',\n",
       " 'suffix:rid',\n",
       " 'suffix:ahi',\n",
       " 'suffix:008',\n",
       " 'suffix:ote',\n",
       " 'suffix:533',\n",
       " 'suffix:ick',\n",
       " 'suffix:ls',\n",
       " 'suffix:ica',\n",
       " 'suffix:nki',\n",
       " 'suffix:gil',\n",
       " 'suffix:yde',\n",
       " 'suffix:NDA',\n",
       " 'suffix:lex',\n",
       " 'suffix:988',\n",
       " 'suffix:004',\n",
       " 'suffix:jri',\n",
       " 'suffix:oar',\n",
       " 'suffix:t-',\n",
       " 'suffix:its',\n",
       " 'suffix:gel',\n",
       " 'suffix:mi',\n",
       " 'suffix:ulf',\n",
       " 'suffix:net',\n",
       " 'suffix:A',\n",
       " 'suffix:SSR',\n",
       " 'suffix:lcy',\n",
       " 'suffix:bel',\n",
       " 'suffix:ob',\n",
       " 'suffix:que',\n",
       " 'suffix:ers',\n",
       " 'suffix:dra',\n",
       " 'suffix:nsk',\n",
       " 'suffix:sus',\n",
       " 'suffix:ang',\n",
       " 'suffix:nch',\n",
       " 'suffix:h',\n",
       " 'suffix:-81',\n",
       " 'suffix:d',\n",
       " 'suffix:l',\n",
       " 'suffix:lai',\n",
       " 'suffix:CTV',\n",
       " 'suffix:d',\n",
       " 'suffix:oun',\n",
       " 'suffix:epp',\n",
       " 'suffix:rs',\n",
       " 'suffix:US',\n",
       " 'suffix:331',\n",
       " 'suffix:yn',\n",
       " \"suffix:'t\",\n",
       " 'suffix:ku',\n",
       " 'suffix:vil',\n",
       " 'suffix:AB',\n",
       " 'suffix:HER',\n",
       " 'suffix:tap',\n",
       " 'suffix:age',\n",
       " 'suffix:nal',\n",
       " 'suffix:4',\n",
       " 'suffix:sam',\n",
       " 'suffix:ved',\n",
       " 'suffix:bor',\n",
       " 'suffix:sel',\n",
       " 'suffix:ner',\n",
       " 'suffix:gow',\n",
       " 'suffix:and',\n",
       " 'suffix:N.',\n",
       " 'suffix:gar',\n",
       " 'suffix:iji',\n",
       " 'suffix:yer',\n",
       " 'suffix:sur',\n",
       " 'suffix:ahr',\n",
       " 'suffix:gon',\n",
       " 'suffix:ois',\n",
       " 'suffix:nga',\n",
       " 'suffix:2',\n",
       " 'suffix:ee',\n",
       " 'suffix:bya',\n",
       " 'suffix:ha',\n",
       " 'suffix:ium',\n",
       " 'suffix:ced',\n",
       " 'suffix:.C.',\n",
       " 'suffix:kov',\n",
       " 'suffix:IDs',\n",
       " 'suffix:ert',\n",
       " 'suffix:glu',\n",
       " 'suffix:ceh',\n",
       " 'suffix:rks',\n",
       " 'suffix:ory',\n",
       " 'suffix:ii',\n",
       " 'suffix:ood',\n",
       " 'suffix:ian',\n",
       " 'suffix:lis',\n",
       " 'suffix:0th',\n",
       " 'suffix:tta',\n",
       " 'suffix:E',\n",
       " 'suffix:abi',\n",
       " 'suffix:mey',\n",
       " 'suffix:648',\n",
       " 'suffix:ok',\n",
       " 'suffix:99',\n",
       " 'suffix:ri',\n",
       " 'suffix:895',\n",
       " 'suffix:rne',\n",
       " 'suffix:rab',\n",
       " 'suffix:rug',\n",
       " 'suffix:nis',\n",
       " 'suffix:odo',\n",
       " 'suffix:lle',\n",
       " 'suffix:jor',\n",
       " 'suffix:ID',\n",
       " 'suffix:dré',\n",
       " 'suffix:hey',\n",
       " 'suffix:pur',\n",
       " 'suffix:ogi',\n",
       " 'suffix:rah',\n",
       " 'suffix:ry',\n",
       " 'suffix:ood',\n",
       " 'suffix:wan',\n",
       " 'suffix:les',\n",
       " 'suffix:ti',\n",
       " 'suffix:gro',\n",
       " 'suffix:law',\n",
       " 'suffix:-EU',\n",
       " 'suffix:anj',\n",
       " 'suffix:ake',\n",
       " 'suffix:me',\n",
       " 'suffix:-46',\n",
       " 'suffix:811',\n",
       " 'suffix:lom',\n",
       " 'suffix:sy',\n",
       " 'suffix:LS',\n",
       " 'suffix:tre',\n",
       " 'suffix:ql',\n",
       " 'suffix:ayi',\n",
       " 'suffix:lue',\n",
       " 'suffix:UE',\n",
       " 'suffix:Os',\n",
       " 'suffix:hi',\n",
       " 'suffix:nid',\n",
       " 'suffix:uro',\n",
       " 'suffix:ngs',\n",
       " 'suffix:mia',\n",
       " 'suffix:sh',\n",
       " 'suffix:ore',\n",
       " 'suffix:941',\n",
       " 'suffix:S',\n",
       " 'suffix:lls',\n",
       " 'suffix:sal',\n",
       " 'suffix:sed',\n",
       " 'suffix:ire',\n",
       " 'suffix:gus',\n",
       " 'suffix:sal',\n",
       " 'suffix:iev',\n",
       " 'suffix:twa',\n",
       " 'suffix:rd',\n",
       " 'suffix:lam',\n",
       " 'suffix:ogo',\n",
       " 'suffix:lp',\n",
       " 'suffix:tes',\n",
       " 'suffix:ape',\n",
       " 'suffix:bu',\n",
       " 'suffix:key',\n",
       " 'suffix:bag',\n",
       " 'suffix:a',\n",
       " 'suffix:L',\n",
       " 'suffix:ig',\n",
       " 'suffix:sic',\n",
       " 'suffix:ati',\n",
       " 'suffix:ff',\n",
       " 'suffix:udy',\n",
       " 'suffix:alk',\n",
       " 'suffix:WII',\n",
       " 'suffix:ine',\n",
       " 'suffix:-2A',\n",
       " 'suffix:RE',\n",
       " 'suffix:mb',\n",
       " 'suffix:oto',\n",
       " 'suffix:tle',\n",
       " 'suffix:hvi',\n",
       " 'suffix:lsh',\n",
       " 'suffix:nes',\n",
       " 'suffix:asp',\n",
       " 'suffix:la',\n",
       " 'suffix:pun',\n",
       " 'suffix:hiv',\n",
       " 'suffix:mir',\n",
       " 'suffix:ark',\n",
       " 'suffix:iri',\n",
       " 'suffix:lac',\n",
       " 'suffix:mar',\n",
       " 'suffix:\"\"',\n",
       " 'suffix:nso',\n",
       " 'suffix:eek',\n",
       " 'suffix:op',\n",
       " 'suffix:hou',\n",
       " 'suffix:tan',\n",
       " 'suffix:ed',\n",
       " 'suffix:han',\n",
       " 'suffix:10',\n",
       " 'suffix:yrs',\n",
       " 'suffix:dda',\n",
       " 'suffix:009',\n",
       " 'suffix:rin',\n",
       " 'suffix:yek',\n",
       " 'suffix:hns',\n",
       " 'suffix:RWA',\n",
       " 'suffix:yos',\n",
       " 'suffix:é',\n",
       " 'suffix:ely',\n",
       " 'suffix:rt',\n",
       " 'suffix:saw',\n",
       " 'suffix:967',\n",
       " 'suffix:B',\n",
       " 'suffix:nta',\n",
       " 'suffix:ney',\n",
       " 'suffix:est',\n",
       " 'suffix:dre',\n",
       " 'suffix:med',\n",
       " 'suffix:f',\n",
       " 'suffix:ple',\n",
       " 'suffix:ngo',\n",
       " 'suffix:lie',\n",
       " 'suffix:cle',\n",
       " 'suffix:PCC',\n",
       " 'suffix:ork',\n",
       " 'suffix:zon',\n",
       " 'suffix:sho',\n",
       " 'suffix:rav',\n",
       " 'suffix:shu',\n",
       " 'suffix:ias',\n",
       " 'suffix:MU',\n",
       " 'suffix:don',\n",
       " 'suffix:ian',\n",
       " 'suffix:end',\n",
       " 'suffix:tka',\n",
       " 'suffix:it',\n",
       " 'suffix:ao',\n",
       " 'suffix:flu',\n",
       " 'suffix:ch',\n",
       " 'suffix:eva',\n",
       " 'suffix:nau',\n",
       " 'suffix:adh',\n",
       " 'suffix:ik',\n",
       " 'suffix:204',\n",
       " 'suffix:ids',\n",
       " 'suffix:doa',\n",
       " 'suffix:ssi',\n",
       " 'suffix:z',\n",
       " 'suffix:hat',\n",
       " 'suffix:com',\n",
       " 'suffix:lat',\n",
       " 'suffix:can',\n",
       " 'suffix:cky',\n",
       " 'suffix:ef',\n",
       " 'suffix:oi',\n",
       " 'suffix:ass',\n",
       " 'suffix:san',\n",
       " 'suffix:ts',\n",
       " 'suffix:lic',\n",
       " 'suffix:elm',\n",
       " 'suffix:rn',\n",
       " 'suffix:up',\n",
       " 'suffix:eev',\n",
       " 'suffix:ene',\n",
       " 'suffix:ie',\n",
       " 'suffix:the',\n",
       " 'suffix:dan',\n",
       " 'suffix:gos',\n",
       " 'suffix:cky',\n",
       " 'suffix:che',\n",
       " 'suffix:ifa',\n",
       " 'suffix:-20',\n",
       " 'suffix:old',\n",
       " 'suffix:ole',\n",
       " 'suffix:mmu',\n",
       " 'suffix:abs',\n",
       " 'suffix:kar',\n",
       " 'suffix:.C.',\n",
       " 'suffix:bol',\n",
       " 'suffix:yo',\n",
       " 'suffix:ong',\n",
       " 'suffix:urk',\n",
       " 'suffix:ko',\n",
       " 'suffix:ORD',\n",
       " 'suffix:arl',\n",
       " 'suffix:to',\n",
       " 'suffix:AH',\n",
       " 'suffix:uts',\n",
       " 'suffix:8',\n",
       " 'suffix:ina',\n",
       " 'suffix:cue',\n",
       " 'suffix:ier',\n",
       " 'suffix:oln',\n",
       " 'suffix:ose',\n",
       " 'suffix:dst',\n",
       " 'suffix:est',\n",
       " 'suffix:pel',\n",
       " 'suffix:ery',\n",
       " 'suffix:iz',\n",
       " 'suffix:bie',\n",
       " 'suffix:ind',\n",
       " 'suffix:rzy',\n",
       " 'suffix:ANA',\n",
       " 'suffix:aq',\n",
       " 'suffix:SAU',\n",
       " 'suffix:867',\n",
       " 'suffix:ves',\n",
       " 'suffix:nal',\n",
       " 'suffix:hal',\n",
       " 'suffix:00',\n",
       " 'suffix:nke',\n",
       " 'suffix:ret',\n",
       " 'suffix:822',\n",
       " 'suffix:les',\n",
       " 'suffix:ngo',\n",
       " 'suffix:t.',\n",
       " 'suffix:du',\n",
       " 'suffix:ban',\n",
       " 'suffix:861',\n",
       " 'suffix:een',\n",
       " 'suffix:ity',\n",
       " 'suffix:el',\n",
       " 'suffix:ci',\n",
       " 'suffix:sor',\n",
       " 'suffix:dji',\n",
       " 'suffix:wok',\n",
       " 'suffix:gun',\n",
       " 'suffix:arm',\n",
       " 'suffix:ras',\n",
       " 'suffix:Os',\n",
       " 'suffix:eza',\n",
       " 'suffix:VA',\n",
       " 'suffix:930',\n",
       " 'suffix:ily',\n",
       " 'suffix:D',\n",
       " 'suffix:-6',\n",
       " 'suffix:eba',\n",
       " 'suffix:yu',\n",
       " 'suffix:ods',\n",
       " 'suffix:3th',\n",
       " 'suffix:eni',\n",
       " 'suffix:dam',\n",
       " 'suffix:lub',\n",
       " 'suffix:ang',\n",
       " 'suffix:bei',\n",
       " 'suffix:en.',\n",
       " 'suffix:zat',\n",
       " 'suffix:os',\n",
       " 'suffix:ina',\n",
       " 'suffix:1',\n",
       " 'suffix:zi',\n",
       " 'suffix:nso',\n",
       " 'suffix:TU',\n",
       " 'suffix:pas',\n",
       " 'suffix:mat',\n",
       " 'suffix:18',\n",
       " 'suffix:ih',\n",
       " 'suffix:rgy',\n",
       " 'suffix:nic',\n",
       " 'suffix:ea',\n",
       " 'suffix:eu',\n",
       " 'suffix:nta',\n",
       " 'suffix:can',\n",
       " 'suffix:alu',\n",
       " 'suffix:ke',\n",
       " 'suffix:kha',\n",
       " 'suffix:rus',\n",
       " 'suffix:or',\n",
       " 'suffix:st',\n",
       " 'suffix:pus',\n",
       " 'suffix:yaz',\n",
       " 'suffix:ceu',\n",
       " 'suffix:AQ',\n",
       " 'suffix:vor',\n",
       " 'suffix:O',\n",
       " 'suffix:lim',\n",
       " 'suffix:h',\n",
       " 'suffix:rua',\n",
       " 'suffix:del',\n",
       " 'suffix:een',\n",
       " 'suffix:nh',\n",
       " 'suffix:myr',\n",
       " 'suffix:913',\n",
       " \"suffix:a'a\",\n",
       " 'suffix:CU',\n",
       " 'suffix:erz',\n",
       " 'suffix:hen',\n",
       " 'suffix:eon',\n",
       " 'suffix:rle',\n",
       " 'suffix:840',\n",
       " 'suffix:CRM',\n",
       " 'suffix:ija',\n",
       " 'suffix:se',\n",
       " 'suffix:may',\n",
       " 'suffix:rne',\n",
       " 'suffix:l',\n",
       " 'suffix:oa',\n",
       " 'suffix:ke',\n",
       " 'suffix:73',\n",
       " 'suffix:zas',\n",
       " 'suffix:de',\n",
       " 'suffix:mez',\n",
       " 'suffix:hri',\n",
       " 'suffix:eel',\n",
       " 'suffix:ave',\n",
       " 'suffix:zem',\n",
       " 'suffix:oba',\n",
       " 'suffix:ue',\n",
       " 'suffix:rak',\n",
       " 'suffix:rus',\n",
       " 'suffix:ugh',\n",
       " 'suffix:ife',\n",
       " 'suffix:ICS',\n",
       " 'suffix:ing',\n",
       " 'suffix:10',\n",
       " 'suffix:din',\n",
       " 'suffix:fin',\n",
       " 'suffix:u',\n",
       " 'suffix:hwe',\n",
       " 'suffix:814',\n",
       " 'suffix:oan',\n",
       " 'suffix:ni',\n",
       " 'suffix:do',\n",
       " 'suffix:arm',\n",
       " 'suffix:gi',\n",
       " 'suffix:uq',\n",
       " 'suffix:.45',\n",
       " 'suffix:baa',\n",
       " 'suffix:hi',\n",
       " 'suffix:cre',\n",
       " 'suffix:tna',\n",
       " 'suffix:nks',\n",
       " 'suffix:013',\n",
       " 'suffix:day',\n",
       " 'suffix:afo',\n",
       " 'suffix:ode',\n",
       " 'suffix:qi',\n",
       " 'suffix:ngs',\n",
       " 'suffix:II',\n",
       " 'suffix:nnu',\n",
       " 'suffix:no',\n",
       " 'suffix:2.7',\n",
       " 'suffix:nki',\n",
       " 'suffix:13',\n",
       " 'suffix:hua',\n",
       " 'suffix:uru',\n",
       " 'suffix:sah',\n",
       " 'suffix:egs',\n",
       " 'suffix:ote',\n",
       " 'suffix:ado',\n",
       " 'suffix:sip',\n",
       " 'suffix:ys',\n",
       " 'suffix:iaz',\n",
       " 'suffix:ch',\n",
       " 'suffix:ino',\n",
       " 'suffix:ald',\n",
       " 'suffix:gy',\n",
       " 'suffix:hwe',\n",
       " 'suffix:ean',\n",
       " 'suffix:du',\n",
       " 'suffix:atf',\n",
       " 'suffix:gin',\n",
       " ...]"
      ]
     },
     "execution_count": 77,
     "metadata": {},
     "output_type": "execute_result"
    }
   ],
   "source": [
    "[f.split(\":\")[0] + \":\" + f.split(\":\")[1] for f in features_extended if f.split(\":\")[0] == \"suffix\"]"
   ]
  },
  {
   "cell_type": "code",
   "execution_count": 80,
   "metadata": {},
   "outputs": [
    {
     "data": {
      "text/plain": [
       "14485"
      ]
     },
     "execution_count": 80,
     "metadata": {},
     "output_type": "execute_result"
    }
   ],
   "source": [
    "len([f.split(\":\")[0] + \":\" + f.split(\":\")[1] for f in features_extended if f.split(\":\")[0] == \"suffix\"])"
   ]
  },
  {
   "cell_type": "markdown",
   "metadata": {},
   "source": [
    "Length of unique suffixes:"
   ]
  },
  {
   "cell_type": "code",
   "execution_count": 81,
   "metadata": {},
   "outputs": [
    {
     "data": {
      "text/plain": [
       "4588"
      ]
     },
     "execution_count": 81,
     "metadata": {},
     "output_type": "execute_result"
    }
   ],
   "source": [
    "len(set([f.split(\":\")[0] + \":\" + f.split(\":\")[1] for f in features_extended if f.split(\":\")[0] == \"suffix\"]))"
   ]
  },
  {
   "cell_type": "code",
   "execution_count": 16,
   "metadata": {},
   "outputs": [],
   "source": [
    "sp = spc.StructuredPerceptron(corpus.word_dict, corpus.tag_dict, feature_mapper)\n",
    "sp.num_epochs = 10"
   ]
  },
  {
   "cell_type": "code",
   "execution_count": 17,
   "metadata": {},
   "outputs": [
    {
     "data": {
      "text/plain": [
       "{'O': 0,\n",
       " 'B-geo': 1,\n",
       " 'B-gpe': 2,\n",
       " 'B-tim': 3,\n",
       " 'B-org': 4,\n",
       " 'I-geo': 5,\n",
       " 'B-per': 6,\n",
       " 'I-per': 7,\n",
       " 'I-org': 8,\n",
       " 'B-art': 9,\n",
       " 'I-art': 10,\n",
       " 'I-tim': 11,\n",
       " 'I-gpe': 12,\n",
       " 'B-nat': 13,\n",
       " 'I-nat': 14,\n",
       " 'B-eve': 15,\n",
       " 'I-eve': 16}"
      ]
     },
     "execution_count": 17,
     "metadata": {},
     "output_type": "execute_result"
    }
   ],
   "source": [
    "sp.state_labels"
   ]
  },
  {
   "cell_type": "code",
   "execution_count": 18,
   "metadata": {},
   "outputs": [
    {
     "data": {
      "text/plain": [
       "(17, 55143)"
      ]
     },
     "execution_count": 18,
     "metadata": {},
     "output_type": "execute_result"
    }
   ],
   "source": [
    "sp.get_num_states(), sp.get_num_observations()"
   ]
  },
  {
   "cell_type": "code",
   "execution_count": 60,
   "metadata": {},
   "outputs": [],
   "source": [
    "feature_types = [f.split(\":\")[0] for f in feature_diff]\n",
    "for f in feature_types:\n",
    "    if f != \"suffix\":\n",
    "        print(f)"
   ]
  },
  {
   "cell_type": "code",
   "execution_count": 29,
   "metadata": {
    "execution": {
     "iopub.execute_input": "2021-06-20T11:11:04.648042Z",
     "iopub.status.busy": "2021-06-20T11:11:04.647019Z",
     "iopub.status.idle": "2021-06-20T11:11:04.657851Z",
     "shell.execute_reply": "2021-06-20T11:11:04.657012Z"
    }
   },
   "outputs": [
    {
     "data": {
      "text/plain": [
       "54286"
      ]
     },
     "execution_count": 1,
     "metadata": {},
     "output_type": "execute_result"
    }
   ],
   "source": [
    "len(sp.parameters)"
   ]
  },
  {
   "cell_type": "code",
   "execution_count": 30,
   "metadata": {
    "execution": {
     "iopub.execute_input": "2021-06-20T11:11:04.661996Z",
     "iopub.status.busy": "2021-06-20T11:11:04.660996Z",
     "iopub.status.idle": "2021-06-20T11:45:46.018241Z",
     "shell.execute_reply": "2021-06-20T11:45:46.019081Z"
    }
   },
   "outputs": [
    {
     "name": "stdout",
     "output_type": "stream",
     "text": [
      "Epoch: 0 Accuracy: 0.919682\n",
      "Epoch: 1 Accuracy: 0.940374\n",
      "Epoch: 2 Accuracy: 0.945737\n",
      "Epoch: 3 Accuracy: 0.949033\n",
      "Epoch: 4 Accuracy: 0.951819\n",
      "Epoch: 5 Accuracy: 0.953552\n",
      "Epoch: 6 Accuracy: 0.955185\n",
      "Epoch: 7 Accuracy: 0.956131\n",
      "Epoch: 8 Accuracy: 0.957545\n",
      "Epoch: 9 Accuracy: 0.958140\n",
      "CPU times: user 34min 47s, sys: 19.4 s, total: 35min 6s\n",
      "Wall time: 34min 41s\n"
     ]
    }
   ],
   "source": [
    "%%time\n",
    "# extended features\n",
    "num_epochs = 10\n",
    "sp.fit(feature_mapper.dataset, num_epochs)"
   ]
  },
  {
   "cell_type": "markdown",
   "metadata": {},
   "source": [
    "### Save model"
   ]
  },
  {
   "cell_type": "code",
   "execution_count": 31,
   "metadata": {
    "execution": {
     "iopub.execute_input": "2021-06-20T11:45:46.023780Z",
     "iopub.status.busy": "2021-06-20T11:45:46.022760Z",
     "iopub.status.idle": "2021-06-20T11:45:46.033740Z",
     "shell.execute_reply": "2021-06-20T11:45:46.034564Z"
    }
   },
   "outputs": [
    {
     "data": {
      "text/plain": [
       "array([10.6,  2.8,  2.6, ..., -9.6,  1.9,  1.9])"
      ]
     },
     "execution_count": 1,
     "metadata": {},
     "output_type": "execute_result"
    }
   ],
   "source": [
    "sp.parameters"
   ]
  },
  {
   "cell_type": "code",
   "execution_count": 32,
   "metadata": {
    "execution": {
     "iopub.execute_input": "2021-06-20T11:45:46.038728Z",
     "iopub.status.busy": "2021-06-20T11:45:46.037729Z",
     "iopub.status.idle": "2021-06-20T11:45:46.070100Z",
     "shell.execute_reply": "2021-06-20T11:45:46.069267Z"
    }
   },
   "outputs": [],
   "source": [
    "models_path = 'fitted_models/'\n",
    "\n",
    "sp.save_model(models_path + \"perceptron_{}_iter_extended\".format(num_epochs))"
   ]
  },
  {
   "cell_type": "code",
   "execution_count": 25,
   "metadata": {},
   "outputs": [
    {
     "data": {
      "text/plain": [
       "10"
      ]
     },
     "execution_count": 25,
     "metadata": {},
     "output_type": "execute_result"
    }
   ],
   "source": [
    "num_epochs"
   ]
  },
  {
   "cell_type": "markdown",
   "metadata": {},
   "source": [
    "## Bidirectional LSTM"
   ]
  },
  {
   "cell_type": "markdown",
   "metadata": {},
   "source": [
    "To train this model, we have used a server which two of our team members are using for their master thesis."
   ]
  },
  {
   "cell_type": "code",
   "execution_count": 3,
   "metadata": {
    "execution": {
     "iopub.execute_input": "2021-06-17T16:46:06.227100Z",
     "iopub.status.busy": "2021-06-17T16:46:06.226540Z",
     "iopub.status.idle": "2021-06-17T16:46:06.228636Z",
     "shell.execute_reply": "2021-06-17T16:46:06.228251Z"
    },
    "id": "i1oj7mMF1n5A"
   },
   "outputs": [],
   "source": [
    "# logging.basicConfig(filename=f\"ner_lstm.log\",\n",
    "#                     format='%(asctime)s - %(message)s', level=logging.INFO)"
   ]
  },
  {
   "cell_type": "code",
   "execution_count": 8,
   "metadata": {
    "execution": {
     "iopub.execute_input": "2021-06-17T16:46:10.694549Z",
     "iopub.status.busy": "2021-06-17T16:46:10.694152Z",
     "iopub.status.idle": "2021-06-17T16:46:10.696024Z",
     "shell.execute_reply": "2021-06-17T16:46:10.695489Z"
    },
    "id": "pbPQ6G5BwYxt"
   },
   "outputs": [],
   "source": [
    "# labels = dict(train_seq.y_dict)\n",
    "# START_TAG = \"<START>\"\n",
    "# STOP_TAG = \"<STOP>\"\n",
    "# labels[START_TAG] = 17\n",
    "# labels[STOP_TAG] = 18\n",
    "\n",
    "# EMBEDDING_DIM = 5\n",
    "# HIDDEN_DIM = 4"
   ]
  },
  {
   "cell_type": "code",
   "execution_count": 9,
   "metadata": {
    "execution": {
     "iopub.execute_input": "2021-06-17T16:46:10.699338Z",
     "iopub.status.busy": "2021-06-17T16:46:10.698798Z",
     "iopub.status.idle": "2021-06-17T16:46:10.723840Z",
     "shell.execute_reply": "2021-06-17T16:46:10.724183Z"
    },
    "id": "sFiIGLgkss3x"
   },
   "outputs": [],
   "source": [
    "# model = BiLSTM_CRF_v2(len(train_seq.x_dict), labels, EMBEDDING_DIM, HIDDEN_DIM)\n",
    "# optimizer = optim.SGD(model.parameters(), lr=0.01, weight_decay=1e-4)"
   ]
  },
  {
   "cell_type": "code",
   "execution_count": 10,
   "metadata": {
    "colab": {
     "base_uri": "https://localhost:8080/"
    },
    "execution": {
     "iopub.execute_input": "2021-06-17T16:46:10.730663Z",
     "iopub.status.busy": "2021-06-17T16:46:10.730134Z",
     "iopub.status.idle": "2021-06-18T06:54:56.121767Z",
     "shell.execute_reply": "2021-06-18T06:54:56.122709Z"
    },
    "id": "ZrD3tyvsy4TG",
    "outputId": "facb8283-d235-44f6-84d1-edb40f7b33e7"
   },
   "outputs": [],
   "source": [
    "# for epoch in range(15):\n",
    "#     for i in range(38357):\n",
    "#         # Step 1. Remember that Pytorch accumulates gradients.\n",
    "#         # We need to clear them out before each instance\n",
    "#         model.zero_grad()\n",
    "\n",
    "#         sentence_in = torch.tensor(train_seq[i].x, dtype=torch.long)\n",
    "#         # sentence_in = sentence_in.to(\"cuda\")\n",
    "#         targets = torch.tensor(train_seq[i].y, dtype=torch.long)\n",
    "#         # targets = targets.to(\"cuda\")\n",
    "\n",
    "#         # Step 3. Run our forward pass.\n",
    "#         loss = model.neg_log_likelihood(sentence_in, targets)\n",
    "\n",
    "#         # Step 4. Compute the loss, gradients, and update the parameters by\n",
    "#         # calling optimizer.step()\n",
    "#         loss.backward()\n",
    "#         optimizer.step()\n",
    "\n",
    "#     logging.info(f\"Epoch {epoch} loss: {loss.item()}\")"
   ]
  },
  {
   "cell_type": "markdown",
   "metadata": {},
   "source": [
    "2021-06-17 19:57:36,061 - Epoch 0 loss: 4.4257965087890625\n",
    "\n",
    "2021-06-17 21:08:28,791 - Epoch 1 loss: 3.559356689453125\n",
    "\n",
    "2021-06-17 22:19:16,304 - Epoch 2 loss: 2.704498291015625\n",
    "\n",
    "2021-06-17 23:15:25,847 - Epoch 3 loss: 2.14013671875\n",
    "\n",
    "2021-06-18 00:08:14,939 - Epoch 4 loss: 1.69354248046875\n",
    "\n",
    "2021-06-18 01:00:55,245 - Epoch 5 loss: 1.399871826171875\n",
    "\n",
    "2021-06-18 01:53:40,715 - Epoch 6 loss: 1.235626220703125\n",
    "\n",
    "2021-06-18 02:46:17,931 - Epoch 7 loss: 1.08868408203125\n",
    "\n",
    "2021-06-18 03:38:55,666 - Epoch 8 loss: 0.985626220703125\n",
    "\n",
    "2021-06-18 04:31:39,916 - Epoch 9 loss: 0.869171142578125\n",
    "\n",
    "2021-06-18 05:24:23,993 - Epoch 10 loss: 0.76190185546875\n",
    "\n",
    "2021-06-18 06:16:57,598 - Epoch 11 loss: 0.679656982421875\n",
    "\n",
    "2021-06-18 07:09:33,227 - Epoch 12 loss: 0.6939697265625\n",
    "\n",
    "2021-06-18 08:02:15,899 - Epoch 13 loss: 0.67559814453125\n",
    "\n",
    "2021-06-18 08:54:56,115 - Epoch 14 loss: 0.899566650390625"
   ]
  },
  {
   "cell_type": "markdown",
   "metadata": {},
   "source": [
    "### Save model"
   ]
  },
  {
   "cell_type": "code",
   "execution_count": 11,
   "metadata": {
    "execution": {
     "iopub.execute_input": "2021-06-18T06:54:56.127943Z",
     "iopub.status.busy": "2021-06-18T06:54:56.127617Z",
     "iopub.status.idle": "2021-06-18T06:54:56.147992Z",
     "shell.execute_reply": "2021-06-18T06:54:56.148345Z"
    },
    "id": "Zdxu-pyBtsKi"
   },
   "outputs": [
    {
     "name": "stderr",
     "output_type": "stream",
     "text": [
      "/home/student/noel_aitor/tion/envs/nlp/lib/python3.7/site-packages/torch/serialization.py:360: UserWarning: Couldn't retrieve source code for container of type BiLSTM_CRF_v2. It won't be checked for correctness upon loading.\n",
      "  \"type \" + obj.__name__ + \". It won't be checked \"\n"
     ]
    }
   ],
   "source": [
    "# torch.save(model, \"modelLSTM.pt\")"
   ]
  }
 ],
 "metadata": {
  "kernelspec": {
   "display_name": "Python 3",
   "language": "python",
   "name": "python3"
  },
  "language_info": {
   "codemirror_mode": {
    "name": "ipython",
    "version": 3
   },
   "file_extension": ".py",
   "mimetype": "text/x-python",
   "name": "python",
   "nbconvert_exporter": "python",
   "pygments_lexer": "ipython3",
   "version": "3.9.4"
  }
 },
 "nbformat": 4,
 "nbformat_minor": 4
}
